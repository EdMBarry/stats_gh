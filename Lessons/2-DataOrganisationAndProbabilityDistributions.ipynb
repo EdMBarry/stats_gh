{
 "cells": [
  {
   "cell_type": "markdown",
   "metadata": {
    "slideshow": {
     "slide_type": "slide"
    }
   },
   "source": [
    "# Week 2: Introduction to Probability and Distributions"
   ]
  },
  {
   "cell_type": "markdown",
   "metadata": {
    "slideshow": {
     "slide_type": "slide"
    }
   },
   "source": [
    "## Important notions\n",
    " - random variables\n",
    " - independence\n",
    " - probability notation (define with the help of Venn diagrams)\n",
    " - probability distributions\n",
    " - notions of continuous and discrete distributions\n",
    " - Gaussian\n",
    " - Lognormal (particles)\n",
    " - Poisson\n",
    " - Binomial"
   ]
  },
  {
   "cell_type": "code",
   "execution_count": 1,
   "metadata": {
    "code_folding": [],
    "slideshow": {
     "slide_type": "skip"
    }
   },
   "outputs": [],
   "source": [
    "from ipywidgets import interact, interactive, fixed, interact_manual, FloatSlider, IntSlider\n",
    "import ipywidgets as widgets\n",
    "from ipywidgets.embed import embed_minimal_html\n",
    "from IPython.display import display\n",
    "\n",
    "import numpy as np\n",
    "import matplotlib.pyplot as plt\n",
    "%matplotlib inline\n",
    "font = {'family' : 'DejaVu Sans',\n",
    "        'weight' : 'bold',\n",
    "        'size'   : 48}\n",
    "\n",
    "plt.rc('font', **font)\n",
    "\n",
    "import pandas as pd\n",
    "from scipy.stats import norm\n"
   ]
  },
  {
   "cell_type": "markdown",
   "metadata": {
    "slideshow": {
     "slide_type": "slide"
    }
   },
   "source": [
    "## Gaussian Plot\n",
    "By running this plot below, you will be able to see what the parameters $\\mu$ and $\\sigma$ do to the graph. What are the meanings of the parameters? Hint: you might want to increase the number of samples?"
   ]
  },
  {
   "cell_type": "code",
   "execution_count": 2,
   "metadata": {
    "code_folding": [
     3
    ],
    "slideshow": {
     "slide_type": "slide"
    }
   },
   "outputs": [
    {
     "data": {
      "application/vnd.jupyter.widget-view+json": {
       "model_id": "947f3ee827654edbaae2f9d659dcc3ef",
       "version_major": 2,
       "version_minor": 0
      },
      "text/plain": [
       "interactive(children=(FloatSlider(value=0.0, continuous_update=False, description='mu', max=5.0, min=-5.0, ste…"
      ]
     },
     "metadata": {},
     "output_type": "display_data"
    }
   ],
   "source": [
    "mu_slider = FloatSlider(min=-5, max=5.0, step=1, value=0, continuous_update=False)\n",
    "sigma_slider = FloatSlider(min=0.1, max=2.0, step=0.1, value=1.0, continuous_update=False)\n",
    "@interact(mu=mu_slider, sigma=sigma_slider)\n",
    "def interactive_norm(mu, sigma):\n",
    "    x=np.linspace(-5,5,10000)\n",
    "    output = norm.pdf(x, mu, sigma)\n",
    "    plt.style.use('ggplot')\n",
    "    plt.figure(figsize=(8,5))\n",
    "    plt.plot(x, output, c='red', lw=3)\n",
    "    plt.grid(True)\n",
    "    plt.xlim([-6, 6])\n",
    "    plt.show()\n",
    "    "
   ]
  },
  {
   "cell_type": "markdown",
   "metadata": {
    "slideshow": {
     "slide_type": "slide"
    }
   },
   "source": [
    "## Demonstration of convergence of t-dist to Gaussian with number of samples\n",
    "\n",
    "By running the script below and playing with the distribution parameters, for what number of samples can you be sure that you can just use the Gaussian? What if you extend the bounds for the number of samples in the positive direction? Does anything crazy happen? "
   ]
  },
  {
   "cell_type": "code",
   "execution_count": 3,
   "metadata": {
    "slideshow": {
     "slide_type": "slide"
    }
   },
   "outputs": [],
   "source": [
    "# Set up the graph with sliders\n",
    "from scipy.stats import t\n",
    "\n",
    "df_slider = IntSlider(min=1, max=50, step=1, value=1, continuous_update=False)\n",
    "xbar_slider = IntSlider(min=-5, max=5, step=1, value=0, continuous_update=False)\n",
    "s_slider = FloatSlider(min=0.2, max=5, step=0.2, value=1, continuous_update=False)"
   ]
  },
  {
   "cell_type": "code",
   "execution_count": 4,
   "metadata": {
    "code_folding": [
     1
    ],
    "slideshow": {
     "slide_type": "slide"
    }
   },
   "outputs": [
    {
     "data": {
      "application/vnd.jupyter.widget-view+json": {
       "model_id": "359d3c4e808541dd8e39592e8198daff",
       "version_major": 2,
       "version_minor": 0
      },
      "text/plain": [
       "interactive(children=(IntSlider(value=1, continuous_update=False, description='df', max=50, min=1), IntSlider(…"
      ]
     },
     "metadata": {},
     "output_type": "display_data"
    }
   ],
   "source": [
    "@interact(df=df_slider, xbar=xbar_slider, s=s_slider)\n",
    "def interactive_tdist(df, xbar, s):\n",
    "    x=np.linspace(-5,5,10000)\n",
    "    output = t.pdf(x, df, xbar, s)\n",
    "    plt.style.use('ggplot')\n",
    "    plt.figure(figsize=(10,8))\n",
    "    plt.plot(x, output, c='red', lw=3, label='t-distribution')\n",
    "    plt.plot(x, norm.pdf(x, 0, 1), c='k', lw=1, label='Gaussian')\n",
    "    plt.xlabel('X', fontsize=36)\n",
    "    plt.ylabel('P(X)', fontsize=36)\n",
    "    plt.grid(True)\n",
    "    plt.xlim([-6, 6])\n",
    "    plt.legend(fontsize=16)\n",
    "    plt.show()"
   ]
  },
  {
   "cell_type": "markdown",
   "metadata": {
    "slideshow": {
     "slide_type": "slide"
    }
   },
   "source": []
  }
 ],
 "metadata": {
  "celltoolbar": "Slideshow",
  "hide_input": false,
  "kernelspec": {
   "display_name": "Python 3",
   "language": "python",
   "name": "python3"
  },
  "language_info": {
   "codemirror_mode": {
    "name": "ipython",
    "version": 3
   },
   "file_extension": ".py",
   "mimetype": "text/x-python",
   "name": "python",
   "nbconvert_exporter": "python",
   "pygments_lexer": "ipython3",
   "version": "3.7.2"
  },
  "livereveal": {
   "autolaunch": true,
   "scroll": true,
   "start_slideshow_at": "beginning",
   "theme": "simple",
   "transition": "zoom"
  },
  "varInspector": {
   "cols": {
    "lenName": 16,
    "lenType": 16,
    "lenVar": 40
   },
   "kernels_config": {
    "python": {
     "delete_cmd_postfix": "",
     "delete_cmd_prefix": "del ",
     "library": "var_list.py",
     "varRefreshCmd": "print(var_dic_list())"
    },
    "r": {
     "delete_cmd_postfix": ") ",
     "delete_cmd_prefix": "rm(",
     "library": "var_list.r",
     "varRefreshCmd": "cat(var_dic_list()) "
    }
   },
   "livereveal": {
    "autolaunch": true,
    "height": 768,
    "scroll": true,
    "start_slideshow_at": "beginning",
    "theme": "sky",
    "width": 1024
   },
   "types_to_exclude": [
    "module",
    "function",
    "builtin_function_or_method",
    "instance",
    "_Feature"
   ],
   "window_display": false
  }
 },
 "nbformat": 4,
 "nbformat_minor": 2
}
