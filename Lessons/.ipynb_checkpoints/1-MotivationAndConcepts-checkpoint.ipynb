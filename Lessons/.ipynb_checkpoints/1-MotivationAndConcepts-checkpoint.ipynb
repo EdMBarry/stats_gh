{
 "cells": [
  {
   "cell_type": "markdown",
   "metadata": {
    "slideshow": {
     "slide_type": "slide"
    }
   },
   "source": [
    "# Part 1: Motivation for Statistical Analysis\n",
    "\n",
    " - Most industry projects promise returns of ~15%, however:\n",
    "  - One-eighth of offshore developments fall into 'disaster' category due to cost growth, time slippage, underproduction\n",
    " - Record worse for megaprojects (~62% cost overrun for mining megaprojects).\n",
    " \n",
    "## Extra motivator\n",
    "Data analytics are at the centre of all major industries. Being somewhat fluent in this field will be advantageous for any chosen career path."
   ]
  },
  {
   "cell_type": "markdown",
   "metadata": {
    "slideshow": {
     "slide_type": "slide"
    }
   },
   "source": [
    "## Example: Dissolved oxygen curve\n",
    "\n",
    "In this example, we want to approximate the dissolved oxygen concentration in water from experimental data. We can apply the following equation to try and describe what's happening.\n",
    "\n",
    "$$C_l \\, = \\, C_s ( 1 - e^{-kLa \\cdot t}) $$\n",
    "\n",
    "Where $C_l$ is the concentration of oxygen i nthe liquid (ppm), $C_s$ is the saturation concentration (the maximum concentration of oxygen in the liquid **under the particular experimental conditions** (e.g. for a certain temperature, atmospheric pressure, water purity). $kLa$ is the overall mass transfer coefficient ($s^{-1}$) and $t$ is time. \n",
    "\n",
    "We need to find the values of $C_s$ and $kLa$ which minimise the error between the model and experimental values of $C_l$."
   ]
  },
  {
   "cell_type": "code",
   "execution_count": 1,
   "metadata": {
    "slideshow": {
     "slide_type": "-"
    }
   },
   "outputs": [],
   "source": [
    "from ipywidgets import interact, interactive, fixed, interact_manual, FloatSlider, IntSlider\n",
    "import ipywidgets as widgets\n",
    "from ipywidgets.embed import embed_minimal_html\n",
    "from IPython.display import display\n",
    "\n",
    "import numpy as np\n",
    "import matplotlib.pyplot as plt\n",
    "%matplotlib inline\n",
    "font = {'family' : 'DejaVu Sans',\n",
    "        'weight' : 'bold',\n",
    "        'size'   : 20}\n",
    "\n",
    "plt.rc('font', **font)\n",
    "\n",
    "import pandas as pd\n",
    "from scipy.stats import norm"
   ]
  },
  {
   "cell_type": "code",
   "execution_count": 5,
   "metadata": {
    "code_folding": [],
    "slideshow": {
     "slide_type": "slide"
    }
   },
   "outputs": [
    {
     "data": {
      "application/vnd.jupyter.widget-view+json": {
       "model_id": "eec80460eb384502bfd0a1c52edf19e0",
       "version_major": 2,
       "version_minor": 0
      },
      "text/plain": [
       "interactive(children=(FloatSlider(value=0.01, continuous_update=False, description='kLa value:', max=0.05, min…"
      ]
     },
     "metadata": {},
     "output_type": "display_data"
    }
   ],
   "source": [
    "import random\n",
    "kLa_slider = FloatSlider(\n",
    "    min=0.01, \n",
    "    max=0.05, \n",
    "    step=0.01, \n",
    "    value=0.01,\n",
    "    description='kLa value:',\n",
    "    continuous_update=False)\n",
    "Cs_slider = FloatSlider(min=5.0, max=10.0, step=0.1, value=5, continuous_update=False)\n",
    "\n",
    "def DOModel(t, kLa, Cs):\n",
    "    return Cs*(1 - np.exp(-kLa*t))\n",
    "\n",
    "@interact(kLa=kLa_slider, Cs=Cs_slider)\n",
    "def interactive_nlreg(kLa, Cs):\n",
    "\n",
    "    # Define the 'raw' data\n",
    "    time = np.linspace(0,200,200)\n",
    "    noise = [random.uniform(-1,1)*0.5 for _ in range(len(time))]\n",
    "    y =  8.10*(1 - np.exp(-0.03*time)) + noise\n",
    "\n",
    "    # Define the model with sliders\n",
    "    model_output = DOModel(time, kLa, Cs)\n",
    "    plt.figure(figsize=(12,9))\n",
    "    plt.plot(time, model_output, c='red', lw=3, label='DO model')\n",
    "    plt.plot(time, y, c='black', lw=2, label='Raw DO data')\n",
    "    plt.xlim([0, 200])\n",
    "    plt.ylim([0, 9])\n",
    "    plt.title(\"Dissolved oxygen concentration (ppm)\")\n",
    "    plt.ylabel(\"DO (ppm)\", fontsize=16, fontweight='bold')\n",
    "    plt.xlabel(\"time (s)\", fontsize=16, fontweight='bold')\n",
    "    plt.legend(fontsize=16)\n",
    "    sse = np.sum((model_output - y)**2)\n",
    "    \n",
    "    #print(f\"Sum of squared error between model and raw data is {sse}\")\n",
    "    interactive.layout.height = '600px'\n",
    "    plt.text(0, -1.5, \"SSE = \" + str(int(sse)), fontsize=20, fontweight='bold')"
   ]
  },
  {
   "cell_type": "code",
   "execution_count": null,
   "metadata": {},
   "outputs": [],
   "source": []
  }
 ],
 "metadata": {
  "celltoolbar": "Slideshow",
  "hide_input": false,
  "kernelspec": {
   "display_name": "Python 3",
   "language": "python",
   "name": "python3"
  },
  "language_info": {
   "codemirror_mode": {
    "name": "ipython",
    "version": 3
   },
   "file_extension": ".py",
   "mimetype": "text/x-python",
   "name": "python",
   "nbconvert_exporter": "python",
   "pygments_lexer": "ipython3",
   "version": "3.7.2"
  },
  "latex_envs": {
   "LaTeX_envs_menu_present": true,
   "autoclose": false,
   "autocomplete": true,
   "bibliofile": "biblio.bib",
   "cite_by": "apalike",
   "current_citInitial": 1,
   "eqLabelWithNumbers": true,
   "eqNumInitial": 1,
   "hotkeys": {
    "equation": "Ctrl-E",
    "itemize": "Ctrl-I"
   },
   "labels_anchors": false,
   "latex_user_defs": false,
   "report_style_numbering": false,
   "user_envs_cfg": false
  },
  "varInspector": {
   "cols": {
    "lenName": 16,
    "lenType": 16,
    "lenVar": 40
   },
   "kernels_config": {
    "python": {
     "delete_cmd_postfix": "",
     "delete_cmd_prefix": "del ",
     "library": "var_list.py",
     "varRefreshCmd": "print(var_dic_list())"
    },
    "r": {
     "delete_cmd_postfix": ") ",
     "delete_cmd_prefix": "rm(",
     "library": "var_list.r",
     "varRefreshCmd": "cat(var_dic_list()) "
    }
   },
   "types_to_exclude": [
    "module",
    "function",
    "builtin_function_or_method",
    "instance",
    "_Feature"
   ],
   "window_display": false
  }
 },
 "nbformat": 4,
 "nbformat_minor": 2
}
