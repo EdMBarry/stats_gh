{
 "cells": [
  {
   "cell_type": "markdown",
   "metadata": {},
   "source": [
    "# Lesson Plan\n",
    "[Week 0. Preliminaries](Lessons/0-Preliminaries.ipynb)\n",
    "\n",
    "[Week 1. Motivation and Concepts](Lessons/1-MotivationAndConcepts.ipynb)\n",
    "\n",
    "[Week 2. Data Organisation and Probability Distributions](Lessons/2-DataOrganisationAndProbabilityDistributions.ipynb)\n",
    "\n",
    "[Week 3. Point Estimation](Lessons/3-PointEstimation.ipynb)\n",
    "\n",
    "[Week 4. Comparative Analyses](Lessons/4-ComparativeAnalyses.ipynb)\n",
    "\n",
    "[Week 5. ANOVA and Design of Experiment](Lessons/5-ANOVA_DOE.ipynb)\n",
    "\n",
    "[Week 6. Regression Analysis: Linear Regression](Lessons/6-LinReg.ipynb)\n",
    "\n",
    "[Week 7. Regression Analysis: Nonlinear Regression](Lessons/7-NLReg.ipynb)\n",
    "\n",
    "[Week 8. Propagation of Uncertainty](Lessons/8-UncertaintyPropagation.ipynb)\n",
    "\n",
    "[Week 9. Response Surfaces](Lessons/9-ResponseSurfaces.ipynb)\n"
   ]
  }
 ],
 "metadata": {
  "hide_input": false,
  "kernelspec": {
   "display_name": "Python 3",
   "language": "python",
   "name": "python3"
  },
  "language_info": {
   "codemirror_mode": {
    "name": "ipython",
    "version": 3
   },
   "file_extension": ".py",
   "mimetype": "text/x-python",
   "name": "python",
   "nbconvert_exporter": "python",
   "pygments_lexer": "ipython3",
   "version": "3.7.2"
  },
  "varInspector": {
   "cols": {
    "lenName": 16,
    "lenType": 16,
    "lenVar": 40
   },
   "kernels_config": {
    "python": {
     "delete_cmd_postfix": "",
     "delete_cmd_prefix": "del ",
     "library": "var_list.py",
     "varRefreshCmd": "print(var_dic_list())"
    },
    "r": {
     "delete_cmd_postfix": ") ",
     "delete_cmd_prefix": "rm(",
     "library": "var_list.r",
     "varRefreshCmd": "cat(var_dic_list()) "
    }
   },
   "types_to_exclude": [
    "module",
    "function",
    "builtin_function_or_method",
    "instance",
    "_Feature"
   ],
   "window_display": false
  }
 },
 "nbformat": 4,
 "nbformat_minor": 2
}
